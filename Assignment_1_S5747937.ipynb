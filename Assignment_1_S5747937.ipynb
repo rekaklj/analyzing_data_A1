{
 "cells": [
  {
   "cell_type": "markdown",
   "metadata": {
    "id": "rbgjVp6BXGCT"
   },
   "source": [
    "\n",
    "# **Assignment 1**\n",
    "\n",
    "\n",
    "## Task 1. Correlation\n",
    "We will use the data example from the textbook \"Statistical Analysis with The General Linear Model\" by Miller and Haden (2013), Chapter 11.\n",
    "\n",
    "As in Miller and Haden, we have five columns:\n",
    "\n",
    "-Participant (Participant),\n",
    "\n",
    "-Reading Ability (Abil),\n",
    "\n",
    "-Intelligence (IQ),\n",
    "\n",
    "-Number of minutes spent reading at home per week (Home),\n",
    "\n",
    "-Number of minutes spent watching TV per week (TV).\n",
    "\n",
    "\n",
    "For the task we will focus on the relationship between Reading Ability and IQ, but for further practice you can look at other relationships on your own."
   ]
  },
  {
   "cell_type": "markdown",
   "metadata": {
    "id": "Z4cXzKORYFaD"
   },
   "source": [
    "**Question 1**:\n",
    "\n",
    "a. Check whether the data is interval, ratio, or ordinal.\n",
    "\n",
    "b. Check whether there is a data point for each participant on both variables.\n",
    "\n",
    "c. Check whether the data is normally distributed in both variables.\n",
    "\n",
    "d. Create a scatter plot with Reading Ability being the x-axis and IQ, being the y-axis.\n",
    "\n",
    "e. Draw a correlation line on the scatter plot.\n",
    "\n",
    "\n",
    "**Instructions:**\n",
    "\n",
    "1. Load the necessary libraries and explain why you need them (\"#used for ...\").\n",
    "\n",
    "2. Read the MillerHadenData.csv file into a DataFrame and name it \"df_mh\"."
   ]
  },
  {
   "cell_type": "code",
   "execution_count": 1,
   "metadata": {
    "id": "140M8Z4qYn_G"
   },
   "outputs": [],
   "source": [
    "import pandas as pd # used for data wrangling\n",
    "import seaborn as sns # used for visualization\n",
    "import matplotlib  # used for visualization\n",
    "from matplotlib import pyplot as plt # used for visualization, creating plots\n",
    "import pylab\n",
    "import pingouin as pg # used for calculating the correlation coefficient\n",
    "\n",
    "df_mh = pd.read_csv('MillerHadenData.csv')"
   ]
  },
  {
   "cell_type": "code",
   "execution_count": 2,
   "metadata": {
    "id": "rwqidw5q2D1n"
   },
   "outputs": [
    {
     "name": "stdout",
     "output_type": "stream",
     "text": [
      "   Participant  Abil   IQ  Home   TV\n",
      "0            1    61  107   144  487\n",
      "1            2    56  109   123  608\n",
      "2            3    45   81   108  640\n",
      "3            4    66  100   155  493\n",
      "4            5    49   92   103  636\n",
      "<class 'pandas.core.frame.DataFrame'>\n",
      "RangeIndex: 25 entries, 0 to 24\n",
      "Data columns (total 5 columns):\n",
      " #   Column       Non-Null Count  Dtype\n",
      "---  ------       --------------  -----\n",
      " 0   Participant  25 non-null     int64\n",
      " 1   Abil         25 non-null     int64\n",
      " 2   IQ           25 non-null     int64\n",
      " 3   Home         25 non-null     int64\n",
      " 4   TV           25 non-null     int64\n",
      "dtypes: int64(5)\n",
      "memory usage: 1.1 KB\n",
      "None\n",
      "       Participant       Abil          IQ        Home          TV\n",
      "count    25.000000  25.000000   25.000000   25.000000   25.000000\n",
      "mean     13.000000  55.120000  100.040000  124.000000  599.920000\n",
      "std       7.359801   6.084954    9.043782   21.039645   95.056965\n",
      "min       1.000000  45.000000   81.000000   87.000000  407.000000\n",
      "25%       7.000000  50.000000   95.000000  108.000000  523.000000\n",
      "50%      13.000000  54.000000  100.000000  123.000000  636.000000\n",
      "75%      19.000000  61.000000  104.000000  141.000000  673.000000\n",
      "max      25.000000  67.000000  118.000000  161.000000  787.000000\n"
     ]
    }
   ],
   "source": [
    "# Q1a (code):\n",
    "# Display first few rows of the dataframe\n",
    "print(df_mh.head())\n",
    "\n",
    "# Check data types and information\n",
    "print(df_mh.info()) # We can see that there are 5 columns, 25 entries, and that the only datatype we have is integer.\n",
    "print(df_mh.describe()) # Here we can see some statistical information (e.g. mean, standard deviation)."
   ]
  },
  {
   "cell_type": "code",
   "execution_count": 3,
   "metadata": {
    "id": "Edd9mYgi2Jar"
   },
   "outputs": [
    {
     "name": "stdout",
     "output_type": "stream",
     "text": [
      "    Participant  Abil    IQ  Home    TV\n",
      "0          True  True  True  True  True\n",
      "1          True  True  True  True  True\n",
      "2          True  True  True  True  True\n",
      "3          True  True  True  True  True\n",
      "4          True  True  True  True  True\n",
      "5          True  True  True  True  True\n",
      "6          True  True  True  True  True\n",
      "7          True  True  True  True  True\n",
      "8          True  True  True  True  True\n",
      "9          True  True  True  True  True\n",
      "10         True  True  True  True  True\n",
      "11         True  True  True  True  True\n",
      "12         True  True  True  True  True\n",
      "13         True  True  True  True  True\n",
      "14         True  True  True  True  True\n",
      "15         True  True  True  True  True\n",
      "16         True  True  True  True  True\n",
      "17         True  True  True  True  True\n",
      "18         True  True  True  True  True\n",
      "19         True  True  True  True  True\n",
      "20         True  True  True  True  True\n",
      "21         True  True  True  True  True\n",
      "22         True  True  True  True  True\n",
      "23         True  True  True  True  True\n",
      "24         True  True  True  True  True\n"
     ]
    },
    {
     "data": {
      "text/html": [
       "<div>\n",
       "<style scoped>\n",
       "    .dataframe tbody tr th:only-of-type {\n",
       "        vertical-align: middle;\n",
       "    }\n",
       "\n",
       "    .dataframe tbody tr th {\n",
       "        vertical-align: top;\n",
       "    }\n",
       "\n",
       "    .dataframe thead th {\n",
       "        text-align: right;\n",
       "    }\n",
       "</style>\n",
       "<table border=\"1\" class=\"dataframe\">\n",
       "  <thead>\n",
       "    <tr style=\"text-align: right;\">\n",
       "      <th></th>\n",
       "      <th>Participant</th>\n",
       "      <th>Abil</th>\n",
       "      <th>IQ</th>\n",
       "    </tr>\n",
       "  </thead>\n",
       "  <tbody>\n",
       "    <tr>\n",
       "      <th>0</th>\n",
       "      <td>True</td>\n",
       "      <td>True</td>\n",
       "      <td>True</td>\n",
       "    </tr>\n",
       "    <tr>\n",
       "      <th>1</th>\n",
       "      <td>True</td>\n",
       "      <td>True</td>\n",
       "      <td>True</td>\n",
       "    </tr>\n",
       "    <tr>\n",
       "      <th>2</th>\n",
       "      <td>True</td>\n",
       "      <td>True</td>\n",
       "      <td>True</td>\n",
       "    </tr>\n",
       "    <tr>\n",
       "      <th>3</th>\n",
       "      <td>True</td>\n",
       "      <td>True</td>\n",
       "      <td>True</td>\n",
       "    </tr>\n",
       "    <tr>\n",
       "      <th>4</th>\n",
       "      <td>True</td>\n",
       "      <td>True</td>\n",
       "      <td>True</td>\n",
       "    </tr>\n",
       "    <tr>\n",
       "      <th>5</th>\n",
       "      <td>True</td>\n",
       "      <td>True</td>\n",
       "      <td>True</td>\n",
       "    </tr>\n",
       "    <tr>\n",
       "      <th>6</th>\n",
       "      <td>True</td>\n",
       "      <td>True</td>\n",
       "      <td>True</td>\n",
       "    </tr>\n",
       "    <tr>\n",
       "      <th>7</th>\n",
       "      <td>True</td>\n",
       "      <td>True</td>\n",
       "      <td>True</td>\n",
       "    </tr>\n",
       "    <tr>\n",
       "      <th>8</th>\n",
       "      <td>True</td>\n",
       "      <td>True</td>\n",
       "      <td>True</td>\n",
       "    </tr>\n",
       "    <tr>\n",
       "      <th>9</th>\n",
       "      <td>True</td>\n",
       "      <td>True</td>\n",
       "      <td>True</td>\n",
       "    </tr>\n",
       "    <tr>\n",
       "      <th>10</th>\n",
       "      <td>True</td>\n",
       "      <td>True</td>\n",
       "      <td>True</td>\n",
       "    </tr>\n",
       "    <tr>\n",
       "      <th>11</th>\n",
       "      <td>True</td>\n",
       "      <td>True</td>\n",
       "      <td>True</td>\n",
       "    </tr>\n",
       "    <tr>\n",
       "      <th>12</th>\n",
       "      <td>True</td>\n",
       "      <td>True</td>\n",
       "      <td>True</td>\n",
       "    </tr>\n",
       "    <tr>\n",
       "      <th>13</th>\n",
       "      <td>True</td>\n",
       "      <td>True</td>\n",
       "      <td>True</td>\n",
       "    </tr>\n",
       "    <tr>\n",
       "      <th>14</th>\n",
       "      <td>True</td>\n",
       "      <td>True</td>\n",
       "      <td>True</td>\n",
       "    </tr>\n",
       "    <tr>\n",
       "      <th>15</th>\n",
       "      <td>True</td>\n",
       "      <td>True</td>\n",
       "      <td>True</td>\n",
       "    </tr>\n",
       "    <tr>\n",
       "      <th>16</th>\n",
       "      <td>True</td>\n",
       "      <td>True</td>\n",
       "      <td>True</td>\n",
       "    </tr>\n",
       "    <tr>\n",
       "      <th>17</th>\n",
       "      <td>True</td>\n",
       "      <td>True</td>\n",
       "      <td>True</td>\n",
       "    </tr>\n",
       "    <tr>\n",
       "      <th>18</th>\n",
       "      <td>True</td>\n",
       "      <td>True</td>\n",
       "      <td>True</td>\n",
       "    </tr>\n",
       "    <tr>\n",
       "      <th>19</th>\n",
       "      <td>True</td>\n",
       "      <td>True</td>\n",
       "      <td>True</td>\n",
       "    </tr>\n",
       "    <tr>\n",
       "      <th>20</th>\n",
       "      <td>True</td>\n",
       "      <td>True</td>\n",
       "      <td>True</td>\n",
       "    </tr>\n",
       "    <tr>\n",
       "      <th>21</th>\n",
       "      <td>True</td>\n",
       "      <td>True</td>\n",
       "      <td>True</td>\n",
       "    </tr>\n",
       "    <tr>\n",
       "      <th>22</th>\n",
       "      <td>True</td>\n",
       "      <td>True</td>\n",
       "      <td>True</td>\n",
       "    </tr>\n",
       "    <tr>\n",
       "      <th>23</th>\n",
       "      <td>True</td>\n",
       "      <td>True</td>\n",
       "      <td>True</td>\n",
       "    </tr>\n",
       "    <tr>\n",
       "      <th>24</th>\n",
       "      <td>True</td>\n",
       "      <td>True</td>\n",
       "      <td>True</td>\n",
       "    </tr>\n",
       "  </tbody>\n",
       "</table>\n",
       "</div>"
      ],
      "text/plain": [
       "    Participant  Abil    IQ\n",
       "0          True  True  True\n",
       "1          True  True  True\n",
       "2          True  True  True\n",
       "3          True  True  True\n",
       "4          True  True  True\n",
       "5          True  True  True\n",
       "6          True  True  True\n",
       "7          True  True  True\n",
       "8          True  True  True\n",
       "9          True  True  True\n",
       "10         True  True  True\n",
       "11         True  True  True\n",
       "12         True  True  True\n",
       "13         True  True  True\n",
       "14         True  True  True\n",
       "15         True  True  True\n",
       "16         True  True  True\n",
       "17         True  True  True\n",
       "18         True  True  True\n",
       "19         True  True  True\n",
       "20         True  True  True\n",
       "21         True  True  True\n",
       "22         True  True  True\n",
       "23         True  True  True\n",
       "24         True  True  True"
      ]
     },
     "execution_count": 3,
     "metadata": {},
     "output_type": "execute_result"
    }
   ],
   "source": [
    "# Q1b (code):\n",
    "# Check for missing values\n",
    "print(df_mh.notnull()) # notnull() returns the value 'True' everywhere, meaning that we do not have any missing values.\n",
    "\n",
    "# Check whether there is a data point for each participant on both variables\n",
    "ability_and_iq = pd.notnull(df_mh[[\"Participant\", \"Abil\", \"IQ\"]])\n",
    "ability_and_iq # notnull() returns the value 'True' everywhere, meaning that there is a data point for each participant on both variables (Abil and IQ)."
   ]
  },
  {
   "cell_type": "code",
   "execution_count": 4,
   "metadata": {
    "id": "3ALe0fjr2K5h"
   },
   "outputs": [
    {
     "data": {
      "image/png": "[encoded data removed]",
      "text/plain": [
       "<Figure size 800x1000 with 6 Axes>"
      ]
     },
     "metadata": {},
     "output_type": "display_data"
    }
   ],
   "source": [
    "# Q1c (code):\n",
    "# Check data distribution\n",
    "df_mh.hist(figsize=(8,10));\n",
    "\n",
    "# We can see a bell-shaped curve in the case of Abil, IQ, Home and TV, therefore, in those cases there is a normal distribution of the data."
   ]
  },
  {
   "cell_type": "code",
   "execution_count": 5,
   "metadata": {
    "id": "xaQ300fY2MPe"
   },
   "outputs": [
    {
     "data": {
      "image/png": "[encoded data removed]",
      "text/plain": [
       "<Figure size 640x480 with 1 Axes>"
      ]
     },
     "metadata": {},
     "output_type": "display_data"
    }
   ],
   "source": [
    "# Q1d (code):\n",
    "# Scatter plot\n",
    "reading_ability = df_mh['Abil']\n",
    "iq = df_mh['IQ']\n",
    "plt.scatter(reading_ability, iq, c=\"g\")\n",
    "plt.xlabel(\"Reading Ability\") \n",
    "plt.ylabel(\"IQ\")\n",
    "plt.show()"
   ]
  },
  {
   "cell_type": "code",
   "execution_count": 6,
   "metadata": {
    "id": "Zpkwqc382N06"
   },
   "outputs": [
    {
     "data": {
      "image/png": "[encoded data removed]",
      "text/plain": [
       "<Figure size 640x480 with 1 Axes>"
      ]
     },
     "metadata": {},
     "output_type": "display_data"
    }
   ],
   "source": [
    "# Q1e (code):\n",
    "# Correlation line\n",
    "plot_corr_sns = sns.regplot(x=\"Abil\", y=\"IQ\", color=\"g\", data=df_mh)\n",
    "plot_corr_sns.set(xlabel='Reading Ability', ylabel='IQ');"
   ]
  },
  {
   "cell_type": "markdown",
   "metadata": {
    "id": "tKtW2diqZq1S"
   },
   "source": [
    "**Question 2**:\n",
    "\n",
    "a. Which correlation coefficient test can we use, Pearson or Spearman? Briefly explian why based on the results of Question 1.\n",
    "\n",
    "b. Conduct a correlation coefficient test.\n",
    "\n",
    "c. Interpret the result (direction and strength of the association between the two varibles)"
   ]
  },
  {
   "cell_type": "code",
   "execution_count": 7,
   "metadata": {
    "id": "t5GRVxHwaKIS"
   },
   "outputs": [],
   "source": [
    "# Q2a (answer with words):\n",
    "# As the histograms demonstrate, the data of the variables Reading Ability and IQ are normally distributed. Hence, we need a parametric test, which is Pearson's coefficient test."
   ]
  },
  {
   "cell_type": "code",
   "execution_count": 8,
   "metadata": {
    "id": "LTSp6xMFaKgf"
   },
   "outputs": [
    {
     "name": "stdout",
     "output_type": "stream",
     "text": [
      "          n        r         CI95%     p-val   BF10     power\n",
      "pearson  25  0.45117  [0.07, 0.72]  0.023593  2.804  0.640299\n"
     ]
    }
   ],
   "source": [
    "# Q2b (code):\n",
    "corr_reading_ability_iq = pg.corr(reading_ability, iq, method='pearson')\n",
    "print(corr_reading_ability_iq)"
   ]
  },
  {
   "cell_type": "code",
   "execution_count": 9,
   "metadata": {
    "id": "m_3aCSG7ylFJ"
   },
   "outputs": [],
   "source": [
    "# Q2c (answer with words):\n",
    "# There is a positive correlation between the two variables as the scatter plot (upward slope) and the correlation coefficient (r=0.45) show.\n",
    "# Regarding the strength, the value of the correlation coefficient r is 0.45 showing a moderate / medium degree of correlation.\n",
    "# When the absolute value of the coefficient is above 0.5 the correlation is considered to be a high degree of correlation and below 0.3 it is a low degree of correlation."
   ]
  },
  {
   "cell_type": "markdown",
   "metadata": {
    "id": "mogdaz8P27oU"
   },
   "source": [
    "## Task 2. Chi-square Test\n",
    "We will continue to use the data example from Task 1.\n",
    "\n",
    "We want to explore whether there are significant differences in the amount of time spent reading at home per week (Home) among people with different reading abilities (Reading Ability). Therefore, we will divide the reading ability of all participants into two groups. The first group is those with low reading ability (Reading Ability at or below the rounded average), and the second group is those with high reading ability (Reading Ability above the rounded average). We will store this grouping in a new column named \"Rank_Abil\".\n",
    "\n",
    "\n",
    "Similarly, the reading time is divided into two different scenarios: the first scenario is infrequent reading (Home at or below the rounded average), and the other is frequent reading (Reading Ability above the rounded average). We will store this grouping in a new column named \"Rank_Home\".\n",
    "\n",
    "\n",
    "Then, construct a Contingency Matrix and perform a Chi-square test.\n",
    "\n",
    "**Question 3**:\n",
    "\n",
    "a. Please state the null hypothesis (H0) and alternative hypothesis (H1) for this Chi-square test.\n",
    "\n",
    "b. Based on the task description, add new columns “Rank_Abil” and \"Rank_Home\" to the dataframe df_mh.\n",
    "\n",
    "c. Construct a Contingency Matrix.\n",
    "\n",
    "d. Perform a Chi-square test.\n",
    "\n",
    "e. Interpret the results of the Chi-square test (answer in text)."
   ]
  },
  {
   "cell_type": "code",
   "execution_count": 10,
   "metadata": {
    "id": "tIKHfEwG-Pte"
   },
   "outputs": [],
   "source": [
    "# Q3a (answer in words):\n",
    "# H0: There is no relationship between the amount of time spent with reading at home and the level of the reading ability.\n",
    "# H1：People who spend more time reading at home will have a high level of reading ability."
   ]
  },
  {
   "cell_type": "code",
   "execution_count": 11,
   "metadata": {
    "id": "nlO-hmq2-V2Z"
   },
   "outputs": [],
   "source": [
    "# Q3b (code):\n",
    "# Import necessary libraries\n",
    "import pandas as pd #used for data wrangling, working with dataframes\n",
    "from scipy.stats import chi2_contingency #used for the Chi-square test of independence of variables in a contingency table \n",
    "\n",
    "# Define the rounded average for Reading Ability and Home\n",
    "abil_ave = df_mh['Abil'].mean()\n",
    "home_ave = df_mh['Home'].mean()\n",
    "\n",
    "# Create the Rank_Abil column\n",
    "def category_abil(number):\n",
    "    if number <= abil_ave:\n",
    "        return 'low'\n",
    "    else:\n",
    "        return 'high'\n",
    "\n",
    "df_mh['Rank_Abil'] = df_mh['Abil'].apply(category_abil)\n",
    "\n",
    "# Create the Rank_Home column\n",
    "def category_home(number):\n",
    "    if number <= home_ave:\n",
    "        return 'low'\n",
    "    else:\n",
    "        return 'high'\n",
    "\n",
    "df_mh['Rank_Home'] = df_mh['Home'].apply(category_home)"
   ]
  },
  {
   "cell_type": "code",
   "execution_count": 12,
   "metadata": {
    "id": "jjtp4cm4-Y36"
   },
   "outputs": [
    {
     "name": "stdout",
     "output_type": "stream",
     "text": [
      "The values:\n",
      "[10, 15, 11, 14]\n",
      "The contingency matrix\n",
      "[[10 15]\n",
      " [11 14]]\n"
     ]
    }
   ],
   "source": [
    "# Q3c (code):\n",
    "# Construct Contingency Matrix\n",
    "data4contingency = []\n",
    "data4contingency.append(sum(df_mh['Rank_Abil'] == 'high'))\n",
    "data4contingency.append(sum(df_mh['Rank_Abil'] == 'low'))\n",
    "data4contingency.append(sum(df_mh['Rank_Home'] == 'high'))\n",
    "data4contingency.append(sum(df_mh['Rank_Home'] == 'low'))\n",
    "\n",
    "print('The values:')\n",
    "print(data4contingency)\n",
    "\n",
    "# We transform the list in a contingency matrix\n",
    "import numpy as np\n",
    "\n",
    "data = np.array(data4contingency).reshape(2,-1)\n",
    "\n",
    "print('The contingency matrix')\n",
    "print(data)"
   ]
  },
  {
   "cell_type": "code",
   "execution_count": 13,
   "metadata": {
    "id": "gyDS8hq2-bmx"
   },
   "outputs": [
    {
     "name": "stdout",
     "output_type": "stream",
     "text": [
      "0.0 1.0\n",
      "These are the expected frequencies\n",
      "[[10.5 14.5]\n",
      " [10.5 14.5]]\n",
      "The observed differences are not statiscally significant - H1 is rejected\n"
     ]
    }
   ],
   "source": [
    "# Q3d (code):\n",
    "# Perform the Chi-square test\n",
    "chi2, p_value, degree_of_freedom, expected_frequencies = chi2_contingency(data)\n",
    "print(chi2, p_value)\n",
    "print('These are the expected frequencies')\n",
    "print(expected_frequencies)\n",
    "\n",
    "if p_value < 0.05:\n",
    "    print(\"The observed differences are statiscally significant - H0 is rejected\")\n",
    "else:\n",
    "    print(\"The observed differences are not statiscally significant - H1 is rejected\")"
   ]
  },
  {
   "cell_type": "code",
   "execution_count": 14,
   "metadata": {
    "id": "fj0gW0pS-dN5"
   },
   "outputs": [],
   "source": [
    "# Q3e (answer in words):\n",
    "# The p-value is higher than 0.05, it is 1.0. Therefore, the differences are not statistically different, so H1 is rejected.\n",
    "# This means that here is no relationship between the amount of time spent with reading at home and the level of the reading ability."
   ]
  },
  {
   "cell_type": "markdown",
   "metadata": {
    "id": "FgYRxqqpaUIk"
   },
   "source": [
    "## Task 3. Two-sample t-test\n",
    "As we discussed on Week 3, Two-sample designs are very useful when we want to know whether there is a difference between groups on a particular variable.\n",
    "\n",
    "In this assignment, you will be guided to replicate the Experiment 4 (p. 887-888) from the paper below, focusing on understanding the data through descriptive statistics, visualizing distributions, testing assumptions (normality and variance homogeneity), and finally performing the independent t-test.\n",
    "\n",
    "Schroeder, J. and Epley, N. (2015). The sound of intellect: Speech reveals a thoughtful mind, increasing a job candidate's appeal. Psychological Science, 26, 277--891.\n",
    "\n",
    "\n",
    "As we explained during Week 3 lecture, there are different types of two-sample designs depending on whether or not the two groups are independent (e.g., different participants in different conditions) or not (e.g., same participants in different conditions). In this course we focus on independent samples, which typically means that the observations in the two groups are unrelated - usually meaning different people. But in real practice you will need to go through similar procedures to determine which is the proper statistical test to use.\n",
    "\n",
    "\n",
    "\n",
    "\n",
    "### Background of data: Speech as indicator of intellect\n",
    "To recap on Experiment 4, 39 professional recruiters from Fortune 500 companies evaluated job pitches of M.B.A. candidates (Masters in Business Administration) from the University of Chicago Booth School of Business. The methods and results appear on pages 887--889 of the article if you want to look at them specifically for more details."
   ]
  },
  {
   "cell_type": "markdown",
   "metadata": {
    "id": "vIc57Glgn5Bb"
   },
   "source": [
    "###Step 1: Analyze the demographics of evaluators from the provided dataset\n",
    "\n",
    "**Instructions:**\n",
    "\n",
    "1. Load the necessary libraries (pandas, scipy, numpy, matplotlib.pyplot, seaborn) and explain why you need them (\"#used for ...\").\n",
    "\n",
    "2. Read the evaluators.csv file into a DataFrame.\n",
    "\n",
    "3. Calculate the mean and standard deviation of the age of the evaluators, handling missing values appropriately.\n",
    "\n",
    "4. Count how many male and female evaluators were in the study.\n",
    "\n",
    "**Question 4:**\n",
    "\n",
    "a. What was the mean age of the evaluators?\n",
    "What was the standard deviation of the age of the evaluators?\n",
    "\n",
    "b. How many participants were female and how many participants were male?\n"
   ]
  },
  {
   "cell_type": "code",
   "execution_count": 15,
   "metadata": {
    "id": "RgnTye-yojyH"
   },
   "outputs": [
    {
     "data": {
      "text/html": [
       "<div>\n",
       "<style scoped>\n",
       "    .dataframe tbody tr th:only-of-type {\n",
       "        vertical-align: middle;\n",
       "    }\n",
       "\n",
       "    .dataframe tbody tr th {\n",
       "        vertical-align: top;\n",
       "    }\n",
       "\n",
       "    .dataframe thead th {\n",
       "        text-align: right;\n",
       "    }\n",
       "</style>\n",
       "<table border=\"1\" class=\"dataframe\">\n",
       "  <thead>\n",
       "    <tr style=\"text-align: right;\">\n",
       "      <th></th>\n",
       "      <th>eval_id</th>\n",
       "      <th>condition</th>\n",
       "      <th>age</th>\n",
       "      <th>sex</th>\n",
       "    </tr>\n",
       "  </thead>\n",
       "  <tbody>\n",
       "    <tr>\n",
       "      <th>0</th>\n",
       "      <td>1</td>\n",
       "      <td>listened</td>\n",
       "      <td>29.0</td>\n",
       "      <td>2.0</td>\n",
       "    </tr>\n",
       "    <tr>\n",
       "      <th>1</th>\n",
       "      <td>2</td>\n",
       "      <td>listened</td>\n",
       "      <td>27.0</td>\n",
       "      <td>2.0</td>\n",
       "    </tr>\n",
       "    <tr>\n",
       "      <th>2</th>\n",
       "      <td>3</td>\n",
       "      <td>listened</td>\n",
       "      <td>27.0</td>\n",
       "      <td>2.0</td>\n",
       "    </tr>\n",
       "    <tr>\n",
       "      <th>3</th>\n",
       "      <td>4</td>\n",
       "      <td>read</td>\n",
       "      <td>40.0</td>\n",
       "      <td>2.0</td>\n",
       "    </tr>\n",
       "    <tr>\n",
       "      <th>4</th>\n",
       "      <td>5</td>\n",
       "      <td>read</td>\n",
       "      <td>32.0</td>\n",
       "      <td>2.0</td>\n",
       "    </tr>\n",
       "  </tbody>\n",
       "</table>\n",
       "</div>"
      ],
      "text/plain": [
       "   eval_id condition   age  sex\n",
       "0        1  listened  29.0  2.0\n",
       "1        2  listened  27.0  2.0\n",
       "2        3  listened  27.0  2.0\n",
       "3        4      read  40.0  2.0\n",
       "4        5      read  32.0  2.0"
      ]
     },
     "execution_count": 15,
     "metadata": {},
     "output_type": "execute_result"
    }
   ],
   "source": [
    "import pandas as pd # used for data wrangling, working with dataframes\n",
    "from scipy import stats # used for statistical tests, correlation functions, probability distributions\n",
    "import numpy as np # used for scientific computing, creating a contingency table\n",
    "import matplotlib.pyplot as plt # used for visualization, creating plots\n",
    "import seaborn as sns # used for visualization\n",
    "\n",
    "# Load the data\n",
    "df_evaluators = pd.read_csv('evaluators.csv')\n",
    "df_evaluators.head()"
   ]
  },
  {
   "cell_type": "code",
   "execution_count": 16,
   "metadata": {
    "id": "eDw0XnX3BRhe"
   },
   "outputs": [
    {
     "name": "stdout",
     "output_type": "stream",
     "text": [
      "30.852941176470587\n",
      "6.238358141327351\n"
     ]
    },
    {
     "data": {
      "text/html": [
       "<div>\n",
       "<style scoped>\n",
       "    .dataframe tbody tr th:only-of-type {\n",
       "        vertical-align: middle;\n",
       "    }\n",
       "\n",
       "    .dataframe tbody tr th {\n",
       "        vertical-align: top;\n",
       "    }\n",
       "\n",
       "    .dataframe thead th {\n",
       "        text-align: right;\n",
       "    }\n",
       "</style>\n",
       "<table border=\"1\" class=\"dataframe\">\n",
       "  <thead>\n",
       "    <tr style=\"text-align: right;\">\n",
       "      <th></th>\n",
       "      <th>eval_id</th>\n",
       "      <th>age</th>\n",
       "      <th>sex</th>\n",
       "    </tr>\n",
       "  </thead>\n",
       "  <tbody>\n",
       "    <tr>\n",
       "      <th>count</th>\n",
       "      <td>39.000000</td>\n",
       "      <td>34.000000</td>\n",
       "      <td>34.000000</td>\n",
       "    </tr>\n",
       "    <tr>\n",
       "      <th>mean</th>\n",
       "      <td>20.000000</td>\n",
       "      <td>30.852941</td>\n",
       "      <td>1.882353</td>\n",
       "    </tr>\n",
       "    <tr>\n",
       "      <th>std</th>\n",
       "      <td>11.401754</td>\n",
       "      <td>6.238358</td>\n",
       "      <td>0.327035</td>\n",
       "    </tr>\n",
       "    <tr>\n",
       "      <th>min</th>\n",
       "      <td>1.000000</td>\n",
       "      <td>23.000000</td>\n",
       "      <td>1.000000</td>\n",
       "    </tr>\n",
       "    <tr>\n",
       "      <th>25%</th>\n",
       "      <td>10.500000</td>\n",
       "      <td>27.000000</td>\n",
       "      <td>2.000000</td>\n",
       "    </tr>\n",
       "    <tr>\n",
       "      <th>50%</th>\n",
       "      <td>20.000000</td>\n",
       "      <td>29.000000</td>\n",
       "      <td>2.000000</td>\n",
       "    </tr>\n",
       "    <tr>\n",
       "      <th>75%</th>\n",
       "      <td>29.500000</td>\n",
       "      <td>32.750000</td>\n",
       "      <td>2.000000</td>\n",
       "    </tr>\n",
       "    <tr>\n",
       "      <th>max</th>\n",
       "      <td>39.000000</td>\n",
       "      <td>48.000000</td>\n",
       "      <td>2.000000</td>\n",
       "    </tr>\n",
       "  </tbody>\n",
       "</table>\n",
       "</div>"
      ],
      "text/plain": [
       "         eval_id        age        sex\n",
       "count  39.000000  34.000000  34.000000\n",
       "mean   20.000000  30.852941   1.882353\n",
       "std    11.401754   6.238358   0.327035\n",
       "min     1.000000  23.000000   1.000000\n",
       "25%    10.500000  27.000000   2.000000\n",
       "50%    20.000000  29.000000   2.000000\n",
       "75%    29.500000  32.750000   2.000000\n",
       "max    39.000000  48.000000   2.000000"
      ]
     },
     "execution_count": 16,
     "metadata": {},
     "output_type": "execute_result"
    }
   ],
   "source": [
    "# Q4a (code):\n",
    "# Calculate mean and standard deviation for age\n",
    "print(df_evaluators['age'].mean(skipna=True))\n",
    "print(df_evaluators['age'].std(skipna=True))\n",
    "\n",
    "df_evaluators.describe()\n",
    "\n",
    "#The skipna parameter enables us to “skip” the missing values when the mean is calculated. Skipna = True causes the mean() method to exclude missing values or NaN values. If skipna is set to False, the method will attempt to include the missing values."
   ]
  },
  {
   "cell_type": "code",
   "execution_count": 17,
   "metadata": {
    "id": "I0tU57R5ufRI"
   },
   "outputs": [
    {
     "data": {
      "text/plain": [
       "2.0    30\n",
       "1.0     4\n",
       "Name: sex, dtype: int64"
      ]
     },
     "execution_count": 17,
     "metadata": {},
     "output_type": "execute_result"
    }
   ],
   "source": [
    "# Q4b (code)\n",
    "# Count male and female evaluators\n",
    "# In the 'sex' column: 1 represents males and 2 represents females\n",
    "df_evaluators['sex'].value_counts()\n",
    "# There are 4 male and 30 female evaluators."
   ]
  },
  {
   "cell_type": "markdown",
   "metadata": {
    "id": "KK-MdZfdpDI3"
   },
   "source": [
    "###Step 2: Calculate overall intellect ratings from evaluators and prepare a combined dataset for analysis\n",
    "\n",
    "We are now going to calculate an overall intellect rating given by each evaluator. To break that down a bit, we are going to calculate how intellectual the evaluators (the raters) thought candidates were overall, depending on whether the evaluators read or listened to the candidates' resume pitches. This is calculated by averaging the ratings of competent, thoughtful and intelligent for each evaluator held within ratings.csv.\n",
    "\n",
    "Note: We are not looking at ratings to individual candidates; we are looking at overall ratings for each evaluator. This is a bit confusing but makes sense if you stop to think about it a little. You can think about it in terms of \"do raters rate differently depending on whether they read or listen to a resume pitch\".\n",
    "We will then combine the overall intellect rating with the overall impression ratings and overall hire ratings for each evaluator, all ready found in ratings.csv. In the end we will have a new new dataframe named \"ratings2\" - which has the below structure:\n",
    "\n",
    "**eval_id** shows the evaluator ID. Each evaluator has a different ID. So all the 1's are the same evaluator.\n",
    "\n",
    "**Category** shows the scale that they were rating on - intellect, hire, impression\n",
    "\n",
    "**Rating** shows the overall rating given by that evaluator on a given scale.\n",
    "\n",
    "**condition** shows whether that evaluator listened to (e.g., evaluators 1, 2 and 3), or read (e.g., evaluator 4) the resume.\n",
    "\n",
    "\n",
    "**Instructions:**\n",
    "\n",
    "1. Load the ratings.csv file.\n",
    "\n",
    "2. Filter and calculate the mean intellect rating for each evaluator.\n",
    "\n",
    "3. Combine this with overall impression and hire ratings to create a new DataFrame named \"rating2\".\n",
    "\n",
    "4. Merge this DataFrame with the evaluator demographics.\n",
    "\n",
    "**Question 5**:\n",
    "\n",
    "Print the head of \"rating2\".\n"
   ]
  },
  {
   "cell_type": "code",
   "execution_count": 18,
   "metadata": {
    "id": "l85NzSC-pj57"
   },
   "outputs": [
    {
     "data": {
      "text/html": [
       "<div>\n",
       "<style scoped>\n",
       "    .dataframe tbody tr th:only-of-type {\n",
       "        vertical-align: middle;\n",
       "    }\n",
       "\n",
       "    .dataframe tbody tr th {\n",
       "        vertical-align: top;\n",
       "    }\n",
       "\n",
       "    .dataframe thead th {\n",
       "        text-align: right;\n",
       "    }\n",
       "</style>\n",
       "<table border=\"1\" class=\"dataframe\">\n",
       "  <thead>\n",
       "    <tr style=\"text-align: right;\">\n",
       "      <th></th>\n",
       "      <th>eval_id</th>\n",
       "      <th>Category</th>\n",
       "      <th>Rating</th>\n",
       "    </tr>\n",
       "  </thead>\n",
       "  <tbody>\n",
       "    <tr>\n",
       "      <th>0</th>\n",
       "      <td>1</td>\n",
       "      <td>competent</td>\n",
       "      <td>6.0</td>\n",
       "    </tr>\n",
       "    <tr>\n",
       "      <th>1</th>\n",
       "      <td>1</td>\n",
       "      <td>thoughtful</td>\n",
       "      <td>6.0</td>\n",
       "    </tr>\n",
       "    <tr>\n",
       "      <th>2</th>\n",
       "      <td>1</td>\n",
       "      <td>intelligent</td>\n",
       "      <td>6.0</td>\n",
       "    </tr>\n",
       "    <tr>\n",
       "      <th>3</th>\n",
       "      <td>1</td>\n",
       "      <td>impression</td>\n",
       "      <td>7.0</td>\n",
       "    </tr>\n",
       "    <tr>\n",
       "      <th>4</th>\n",
       "      <td>1</td>\n",
       "      <td>hire</td>\n",
       "      <td>6.0</td>\n",
       "    </tr>\n",
       "  </tbody>\n",
       "</table>\n",
       "</div>"
      ],
      "text/plain": [
       "   eval_id     Category  Rating\n",
       "0        1    competent     6.0\n",
       "1        1   thoughtful     6.0\n",
       "2        1  intelligent     6.0\n",
       "3        1   impression     7.0\n",
       "4        1         hire     6.0"
      ]
     },
     "execution_count": 18,
     "metadata": {},
     "output_type": "execute_result"
    }
   ],
   "source": [
    "# Load ratings data\n",
    "df_ratings = pd.read_csv('ratings.csv')\n",
    "df_ratings.head()"
   ]
  },
  {
   "cell_type": "code",
   "execution_count": 19,
   "metadata": {},
   "outputs": [],
   "source": [
    "# Q5 (code):\n",
    "# Filter the ratings DataFrame to include only 'thoughtful', 'competent', and 'intelligent' categories\n",
    "df_ratings_TCI = df_ratings.loc[df_ratings['Category'].isin(['thoughtful', 'competent', 'intelligent'])]\n",
    "#Use isin() to include multiple values of a column (put them in a list)."
   ]
  },
  {
   "cell_type": "code",
   "execution_count": 20,
   "metadata": {},
   "outputs": [
    {
     "name": "stderr",
     "output_type": "stream",
     "text": [
      "C:\\Users\\rekaj\\AppData\\Local\\Temp\\ipykernel_12836\\2223270231.py:3: FutureWarning: The default value of numeric_only in DataFrameGroupBy.mean is deprecated. In a future version, numeric_only will default to False. Either specify numeric_only or select only columns which should be valid for the function.\n",
      "  df_ratings_TCI.groupby(by='eval_id').mean().reset_index().head()\n"
     ]
    },
    {
     "data": {
      "text/html": [
       "<div>\n",
       "<style scoped>\n",
       "    .dataframe tbody tr th:only-of-type {\n",
       "        vertical-align: middle;\n",
       "    }\n",
       "\n",
       "    .dataframe tbody tr th {\n",
       "        vertical-align: top;\n",
       "    }\n",
       "\n",
       "    .dataframe thead th {\n",
       "        text-align: right;\n",
       "    }\n",
       "</style>\n",
       "<table border=\"1\" class=\"dataframe\">\n",
       "  <thead>\n",
       "    <tr style=\"text-align: right;\">\n",
       "      <th></th>\n",
       "      <th>eval_id</th>\n",
       "      <th>Rating</th>\n",
       "    </tr>\n",
       "  </thead>\n",
       "  <tbody>\n",
       "    <tr>\n",
       "      <th>0</th>\n",
       "      <td>1</td>\n",
       "      <td>6.000000</td>\n",
       "    </tr>\n",
       "    <tr>\n",
       "      <th>1</th>\n",
       "      <td>2</td>\n",
       "      <td>5.666667</td>\n",
       "    </tr>\n",
       "    <tr>\n",
       "      <th>2</th>\n",
       "      <td>3</td>\n",
       "      <td>6.000000</td>\n",
       "    </tr>\n",
       "    <tr>\n",
       "      <th>3</th>\n",
       "      <td>4</td>\n",
       "      <td>3.333333</td>\n",
       "    </tr>\n",
       "    <tr>\n",
       "      <th>4</th>\n",
       "      <td>5</td>\n",
       "      <td>1.000000</td>\n",
       "    </tr>\n",
       "  </tbody>\n",
       "</table>\n",
       "</div>"
      ],
      "text/plain": [
       "   eval_id    Rating\n",
       "0        1  6.000000\n",
       "1        2  5.666667\n",
       "2        3  6.000000\n",
       "3        4  3.333333\n",
       "4        5  1.000000"
      ]
     },
     "execution_count": 20,
     "metadata": {},
     "output_type": "execute_result"
    }
   ],
   "source": [
    "# Calculate the mean intellect rating for each evaluator\n",
    "# Group by 'eval_id' and calculate mean, then reset the index to convert groupby object back to DataFrame\n",
    "df_ratings_TCI.groupby(by='eval_id').mean().reset_index().head()"
   ]
  },
  {
   "cell_type": "code",
   "execution_count": 21,
   "metadata": {},
   "outputs": [
    {
     "name": "stderr",
     "output_type": "stream",
     "text": [
      "C:\\Users\\rekaj\\AppData\\Local\\Temp\\ipykernel_12836\\380087239.py:2: FutureWarning: The default value of numeric_only in DataFrameGroupBy.mean is deprecated. In a future version, numeric_only will default to False. Either specify numeric_only or select only columns which should be valid for the function.\n",
      "  df_ratings_INT = df_ratings_TCI.groupby(by='eval_id').mean().reset_index()\n"
     ]
    }
   ],
   "source": [
    "# Add a 'Category' column with the value 'intellect' for these rows\n",
    "df_ratings_INT = df_ratings_TCI.groupby(by='eval_id').mean().reset_index()\n",
    "df_ratings_INT['Category'] = 'intellect'"
   ]
  },
  {
   "cell_type": "code",
   "execution_count": 22,
   "metadata": {},
   "outputs": [],
   "source": [
    "# Create a DataFrame for 'impression' and 'hire' ratings\n",
    "df_ratings_IH = df_ratings.loc[df_ratings['Category'].isin(['impression', 'hire'])]"
   ]
  },
  {
   "cell_type": "code",
   "execution_count": 23,
   "metadata": {},
   "outputs": [],
   "source": [
    "# Combine the DataFrames to create 'ratings2'\n",
    "# Concatenate the 'intellect_mean' DataFrame with the 'other_ratings' DataFrame\n",
    "ratings2 = pd.concat([df_ratings_INT, df_ratings_IH])"
   ]
  },
  {
   "cell_type": "code",
   "execution_count": 24,
   "metadata": {},
   "outputs": [],
   "source": [
    "# Join 'ratings2' with the 'df_evaluators' DataFrame to add the 'condition' column\n",
    "ratings2 = ratings2.merge(df_evaluators, on = 'eval_id')"
   ]
  },
  {
   "cell_type": "code",
   "execution_count": 25,
   "metadata": {},
   "outputs": [],
   "source": [
    "ratings2 = ratings2.rename(columns={'Rating': 'rating', 'Category': 'category'})"
   ]
  },
  {
   "cell_type": "code",
   "execution_count": 26,
   "metadata": {},
   "outputs": [],
   "source": [
    "# Select only the necessary columns as per the structure required\n",
    "ratings2 = ratings2.drop(['age', 'sex'], axis = 1)"
   ]
  },
  {
   "cell_type": "code",
   "execution_count": 27,
   "metadata": {},
   "outputs": [],
   "source": [
    "# Arrange by 'eval_id' and 'Category'\n",
    "ratings2 = ratings2.sort_values(by = ['eval_id', 'category'])"
   ]
  },
  {
   "cell_type": "code",
   "execution_count": 28,
   "metadata": {},
   "outputs": [
    {
     "data": {
      "text/html": [
       "<div>\n",
       "<style scoped>\n",
       "    .dataframe tbody tr th:only-of-type {\n",
       "        vertical-align: middle;\n",
       "    }\n",
       "\n",
       "    .dataframe tbody tr th {\n",
       "        vertical-align: top;\n",
       "    }\n",
       "\n",
       "    .dataframe thead th {\n",
       "        text-align: right;\n",
       "    }\n",
       "</style>\n",
       "<table border=\"1\" class=\"dataframe\">\n",
       "  <thead>\n",
       "    <tr style=\"text-align: right;\">\n",
       "      <th></th>\n",
       "      <th>eval_id</th>\n",
       "      <th>rating</th>\n",
       "      <th>category</th>\n",
       "      <th>condition</th>\n",
       "    </tr>\n",
       "  </thead>\n",
       "  <tbody>\n",
       "    <tr>\n",
       "      <th>2</th>\n",
       "      <td>1</td>\n",
       "      <td>6.000000</td>\n",
       "      <td>hire</td>\n",
       "      <td>listened</td>\n",
       "    </tr>\n",
       "    <tr>\n",
       "      <th>1</th>\n",
       "      <td>1</td>\n",
       "      <td>7.000000</td>\n",
       "      <td>impression</td>\n",
       "      <td>listened</td>\n",
       "    </tr>\n",
       "    <tr>\n",
       "      <th>0</th>\n",
       "      <td>1</td>\n",
       "      <td>6.000000</td>\n",
       "      <td>intellect</td>\n",
       "      <td>listened</td>\n",
       "    </tr>\n",
       "    <tr>\n",
       "      <th>5</th>\n",
       "      <td>2</td>\n",
       "      <td>4.000000</td>\n",
       "      <td>hire</td>\n",
       "      <td>listened</td>\n",
       "    </tr>\n",
       "    <tr>\n",
       "      <th>4</th>\n",
       "      <td>2</td>\n",
       "      <td>4.666667</td>\n",
       "      <td>impression</td>\n",
       "      <td>listened</td>\n",
       "    </tr>\n",
       "  </tbody>\n",
       "</table>\n",
       "</div>"
      ],
      "text/plain": [
       "   eval_id    rating    category condition\n",
       "2        1  6.000000        hire  listened\n",
       "1        1  7.000000  impression  listened\n",
       "0        1  6.000000   intellect  listened\n",
       "5        2  4.000000        hire  listened\n",
       "4        2  4.666667  impression  listened"
      ]
     },
     "execution_count": 28,
     "metadata": {},
     "output_type": "execute_result"
    }
   ],
   "source": [
    "# Display the first few rows of the final 'ratings2' DataFrame to verify\n",
    "ratings2.head()"
   ]
  },
  {
   "cell_type": "markdown",
   "metadata": {
    "id": "fOmtKCzEpoOa"
   },
   "source": [
    "###Step 3: Perform descriptive and inferential statistical analyses, including testing assumptions and conducting independent t-tests.\n",
    "\n",
    "We are going to run the t-tests for Intellect, Hire and Impression; each time comparing evaluators overall ratings for the listened group versus overall ratings for the read group to see if there was a significant difference between the two conditions: i.e., did the evaluators who listened to pitches give a significant higher or lower rating than evaluators that read pitches?\n",
    "\n",
    "**Question 6**:\n",
    "\n",
    "a. In terms of hypotheses, how can we phrase the hypothesis?\n",
    "\n",
    "b. Which t-test should we choose, one-tail or two-tail? And explian why.\n",
    "\n",
    "c. What are the independent variable and the dependent variable here?\n",
    "\n"
   ]
  },
  {
   "cell_type": "code",
   "execution_count": 29,
   "metadata": {
    "id": "duti45rG22eS"
   },
   "outputs": [],
   "source": [
    "# Q6a (answer in words):\n",
    "# Null hypothesis:\n",
    "# The overall ratings of the evaluators who listened to the pitches are not different from the overall ratings of the evaluators who read the pitches.\n",
    "# (= The mean of the overall ratings of the evaluators who listened to the pitches is the same as the mean of the overall ratings of the evaluators who read the pitches.)\n",
    "\n",
    "# Alternative hypothesis:\n",
    "# The overall ratings of the evaluators who listened to the pitches are different from the overall ratings of the evaluators who read the pitches.\n",
    "# (= The mean of the overall ratings of the evaluators who listened to the pitches is not the same as the mean of the overall ratings of the evaluators who read the pitches.)\n",
    "\n",
    "\n",
    "# we could phrase the null hypothesis for these tests as there is no significant difference between overall ratings on the {insert trait} scale between evaluators who listened to resume pitches and evaluators who read the resume pitches (H0:μ1=μ2). Alternatively, we could state it as there will be a significant difference between overall ratings on the {insert trait} scale between evaluators who listened to resume pitches and evaluators who read the resume pitches (H1:μ1≠μ2)."
   ]
  },
  {
   "cell_type": "code",
   "execution_count": 30,
   "metadata": {
    "id": "EkoM_0js3fyS"
   },
   "outputs": [],
   "source": [
    "# Q6b (answer in words):\n",
    "# Which t-test should we choose, one-tail or two-tail? Explian why.\n",
    "# We should use the two-tailed t-test because the alternative hypothesis is non-directional."
   ]
  },
  {
   "cell_type": "code",
   "execution_count": 31,
   "metadata": {
    "id": "073zOlIsI5ws"
   },
   "outputs": [],
   "source": [
    "# Q6c (answer in words):\n",
    "# What are the independent variable and the dependent variable here?\n",
    "# The variables are the condition, with the values read or listened, and the ratings of the evaluators."
   ]
  },
  {
   "cell_type": "markdown",
   "metadata": {
    "id": "4g-SpuDX23iL"
   },
   "source": [
    "\n",
    "To clarify, we are going to run three between-subjects t-tests in total; one for intellect ratings; one for hire ratings; one for impression ratings.\n",
    "\n",
    "**Instructions:**\n",
    "\n",
    "1. Descriptive analysis of the ratings.\n",
    "\n",
    "2. Test for normal distribution (Shapiro-Wilk test) and homogeneity of variances (Levene's test) for the intellect, impression, and hire ratings.\n",
    "\n",
    "3. Conduct independent t-tests comparing intellect, impression, and hire ratings between conditions (listened vs. read).\n",
    "\n",
    "Hints: three T-tests need to be performed.\n",
    "\n",
    "**Question 7**:\n",
    "\n",
    "a: Print the test results.\n",
    "\n",
    "b: Interpret the results of the above descriptive statistics, Shapiro-Wilk test, Levene's test, and independent t-tests. Explian why we use these tests and how we made our decisions based on the test result."
   ]
  },
  {
   "cell_type": "code",
   "execution_count": 32,
   "metadata": {},
   "outputs": [],
   "source": [
    "##Q7a (code):\n",
    "from scipy.stats import shapiro, levene, ttest_ind # used for statistical tests; Shapiro-Wilk test for normality, Levene test for equal variance, t-test"
   ]
  },
  {
   "cell_type": "code",
   "execution_count": 33,
   "metadata": {},
   "outputs": [
    {
     "data": {
      "text/plain": [
       "count    117.000000\n",
       "mean       4.561254\n",
       "std        2.240198\n",
       "min        0.000000\n",
       "25%        3.000000\n",
       "50%        4.666667\n",
       "75%        6.000000\n",
       "max        9.000000\n",
       "Name: rating, dtype: float64"
      ]
     },
     "execution_count": 33,
     "metadata": {},
     "output_type": "execute_result"
    }
   ],
   "source": [
    "# Descriptive analysis of the ratings\n",
    "ratings2['rating'].describe()"
   ]
  },
  {
   "cell_type": "code",
   "execution_count": 34,
   "metadata": {},
   "outputs": [],
   "source": [
    "# Test for normal distribution (Shapiro-Wilk test)\n",
    "\n",
    "sub_df = ratings2.groupby(\"category\")\n",
    "intellect = sub_df.get_group(\"intellect\") # create a dataframe for the category 'intellect'\n",
    "hire = sub_df.get_group(\"hire\") # create a dataframe for the category 'hire'\n",
    "impression = sub_df.get_group(\"impression\") # create a dataframe for the category 'impression'"
   ]
  },
  {
   "cell_type": "code",
   "execution_count": 35,
   "metadata": {},
   "outputs": [
    {
     "name": "stdout",
     "output_type": "stream",
     "text": [
      "0.9747602939605713 0.5182666182518005\n"
     ]
    }
   ],
   "source": [
    "shapiro_results = []\n",
    "score_shapiro_intellect, p_val_shapiro_intellect = stats.shapiro(intellect['rating']) # apply the Shapiro-Wilk test to the ratings of the category 'intellect'\n",
    "shapiro_results.append(p_val_shapiro_intellect)\n",
    "print(score_shapiro_intellect, p_val_shapiro_intellect)"
   ]
  },
  {
   "cell_type": "code",
   "execution_count": 36,
   "metadata": {},
   "outputs": [
    {
     "name": "stdout",
     "output_type": "stream",
     "text": [
      "0.9427909851074219 0.04710369557142258\n"
     ]
    }
   ],
   "source": [
    "score_shapiro_hire, p_val_shapiro_hire = stats.shapiro(hire['rating']) # apply the Shapiro-Wilk test to the ratings of the category 'hire'\n",
    "shapiro_results.append(p_val_shapiro_hire)\n",
    "print(score_shapiro_hire, p_val_shapiro_hire)"
   ]
  },
  {
   "cell_type": "code",
   "execution_count": 37,
   "metadata": {},
   "outputs": [
    {
     "name": "stdout",
     "output_type": "stream",
     "text": [
      "0.9595587849617004 0.17238670587539673\n"
     ]
    }
   ],
   "source": [
    "score_shapiro_impression, p_val_shapiro_impression = stats.shapiro(impression['rating']) # apply the Shapiro-Wilk test to the ratings of the category 'impression'\n",
    "shapiro_results.append(p_val_shapiro_impression)\n",
    "print(score_shapiro_impression, p_val_shapiro_impression)"
   ]
  },
  {
   "cell_type": "code",
   "execution_count": 38,
   "metadata": {},
   "outputs": [
    {
     "name": "stdout",
     "output_type": "stream",
     "text": [
      "The p-value results of the Shapiro_Wilk test: [0.5182666182518005, 0.04710369557142258, 0.17238670587539673]\n"
     ]
    }
   ],
   "source": [
    "print(f\"The p-value results of the Shapiro_Wilk test: {shapiro_results}\")"
   ]
  },
  {
   "cell_type": "code",
   "execution_count": 39,
   "metadata": {
    "id": "QD3ZZRrAq4Gc"
   },
   "outputs": [
    {
     "name": "stdout",
     "output_type": "stream",
     "text": [
      "Levene's test is not significant - proceed\n"
     ]
    }
   ],
   "source": [
    "# Test for homogeneity of variances (Levene's test)\n",
    "# if the test is NOT statistically significance, then homogeneity of variance is \"verified\".\n",
    "# if the test is statistically significance, then homogeneity of variance is NOT \"verified\".\n",
    "\n",
    "levene_results = []\n",
    "score, p_val = stats.levene(intellect['rating'], impression['rating']) # apply the Levene test to the ratings of the category 'intellect' and 'impression'\n",
    "levene_results.append(p_val)\n",
    "if p_val < 0.05:\n",
    "    print(\"Levene's test is significant - use Welch's test\")\n",
    "else:\n",
    "    print(\"Levene's test is not significant - proceed\")"
   ]
  },
  {
   "cell_type": "code",
   "execution_count": 40,
   "metadata": {
    "scrolled": true
   },
   "outputs": [
    {
     "name": "stdout",
     "output_type": "stream",
     "text": [
      "Levene's test is not significant - proceed\n"
     ]
    }
   ],
   "source": [
    "score, p_val = stats.levene(intellect['rating'], hire['rating']) # apply the Levene test to the ratings of the category 'intellect' and 'hire'\n",
    "levene_results.append(p_val)\n",
    "if p_val < 0.05:\n",
    "    print(\"Levene's test is significant - use Welch's test\")\n",
    "else:\n",
    "    print(\"Levene's test is not significant - proceed\")\n"
   ]
  },
  {
   "cell_type": "code",
   "execution_count": 41,
   "metadata": {},
   "outputs": [
    {
     "name": "stdout",
     "output_type": "stream",
     "text": [
      "Levene's test is not significant - proceed\n"
     ]
    }
   ],
   "source": [
    "score, p_val = stats.levene(hire['rating'], impression['rating']) # apply the Levene test to the ratings of the category 'hire' and 'impression'\n",
    "levene_results.append(p_val)\n",
    "if p_val < 0.05:\n",
    "    print(\"Levene's test is significant - use Welch's test\")\n",
    "else:\n",
    "    print(\"Levene's test is not significant - proceed\")\n"
   ]
  },
  {
   "cell_type": "code",
   "execution_count": 42,
   "metadata": {},
   "outputs": [
    {
     "name": "stdout",
     "output_type": "stream",
     "text": [
      "The p-value results of Levene's test: [0.3549856407301828, 0.2342383313415863, 0.7919757430149408]\n"
     ]
    }
   ],
   "source": [
    "print(f\"The p-value results of Levene's test: {levene_results}\")"
   ]
  },
  {
   "cell_type": "code",
   "execution_count": 43,
   "metadata": {},
   "outputs": [],
   "source": [
    "# Independent t-tests\n",
    "# Compare intellect, impression, and hire ratings between conditions (listened vs. read)."
   ]
  },
  {
   "cell_type": "code",
   "execution_count": 44,
   "metadata": {},
   "outputs": [],
   "source": [
    "listened_intellect_loc = ratings2.loc[(ratings2[\"condition\"] == \"listened\") & (ratings2[\"category\"] == \"intellect\")] # create a dataframe for the 'category' 'intellect' with the 'condition' 'listened'\n",
    "listened_impression_loc = ratings2.loc[(ratings2[\"condition\"] == \"listened\") & (ratings2[\"category\"] == \"impression\")] # create a dataframe for the 'category' 'impression' with the 'condition' 'listened'\n",
    "listened_hire_loc = ratings2.loc[(ratings2[\"condition\"] == \"listened\") & (ratings2[\"category\"] == \"hire\")] # create a dataframe for the 'category' 'hire' with the 'condition' 'listened'\n",
    "\n",
    "read_intellect_loc = ratings2.loc[(ratings2[\"condition\"] == \"read\") & (ratings2[\"category\"] == \"intellect\")] # create a dataframe for the 'category' 'intellect' with the 'condition' 'read'\n",
    "read_impression_loc = ratings2.loc[(ratings2[\"condition\"] == \"read\") & (ratings2[\"category\"] == \"impression\")] # create a dataframe for the 'category' 'impression' with the 'condition' 'read'\n",
    "read_hire_loc = ratings2.loc[(ratings2[\"condition\"] == \"read\") & (ratings2[\"category\"] == \"hire\")] # create a dataframe for the 'category' 'hire' with the 'condition' 'read'"
   ]
  },
  {
   "cell_type": "code",
   "execution_count": 45,
   "metadata": {},
   "outputs": [
    {
     "name": "stdout",
     "output_type": "stream",
     "text": [
      "Difference is statistically significant - reject H0, confirm H1\n"
     ]
    }
   ],
   "source": [
    "ttest_results = []\n",
    "ttest_score, p_val = stats.ttest_ind(listened_intellect_loc['rating'], read_intellect_loc['rating']) # apply the t-test to compare the ratings of 'listened intellect' and 'read intellect'\n",
    "ttest_results.append(p_val)\n",
    "if p_val < 0.05:\n",
    "    print(\"Difference is statistically significant - reject H0, confirm H1\")\n",
    "else:\n",
    "    print(\"Difference is NOT statistically significant - reject H1, confirm H0\")"
   ]
  },
  {
   "cell_type": "code",
   "execution_count": 46,
   "metadata": {},
   "outputs": [
    {
     "name": "stdout",
     "output_type": "stream",
     "text": [
      "Difference is statistically significant - reject H0, confirm H1\n"
     ]
    }
   ],
   "source": [
    "ttest_score, p_val = stats.ttest_ind(listened_impression_loc['rating'], read_impression_loc['rating']) # apply the t-test to compare the ratings of 'listened impression' and 'read impression'\n",
    "ttest_results.append(p_val)\n",
    "if p_val < 0.05:\n",
    "    print(\"Difference is statistically significant - reject H0, confirm H1\")\n",
    "else:\n",
    "    print(\"Difference is NOT statistically significant - reject H1, confirm H0\")"
   ]
  },
  {
   "cell_type": "code",
   "execution_count": 47,
   "metadata": {},
   "outputs": [
    {
     "name": "stdout",
     "output_type": "stream",
     "text": [
      "Difference is statistically significant - reject H0, confirm H1\n"
     ]
    }
   ],
   "source": [
    "ttest_score, p_val = stats.ttest_ind(listened_hire_loc['rating'], read_hire_loc['rating']) # apply the t-test to compare the ratings of 'listened hire' and 'read hire'\n",
    "ttest_results.append(p_val)\n",
    "if p_val < 0.05:\n",
    "    print(\"Difference is statistically significant - reject H0, confirm H1\")\n",
    "else:\n",
    "    print(\"Difference is NOT statistically significant - reject H1, confirm H0\")"
   ]
  },
  {
   "cell_type": "code",
   "execution_count": 48,
   "metadata": {},
   "outputs": [
    {
     "name": "stdout",
     "output_type": "stream",
     "text": [
      "The p-value results of t-test: [0.0011444414996286821, 0.007091060616710596, 0.012674511839824125]\n"
     ]
    }
   ],
   "source": [
    "print(f\"The p-value results of t-test: {ttest_results}\")"
   ]
  },
  {
   "cell_type": "code",
   "execution_count": 49,
   "metadata": {},
   "outputs": [
    {
     "data": {
      "text/plain": [
       "([0.5182666182518005, 0.04710369557142258, 0.17238670587539673],\n",
       " [0.3549856407301828, 0.2342383313415863, 0.7919757430149408],\n",
       " [0.0011444414996286821, 0.007091060616710596, 0.012674511839824125])"
      ]
     },
     "execution_count": 49,
     "metadata": {},
     "output_type": "execute_result"
    }
   ],
   "source": [
    "# The p-values of the tests\n",
    "shapiro_results, levene_results, ttest_results"
   ]
  },
  {
   "cell_type": "code",
   "execution_count": 50,
   "metadata": {
    "id": "aifm_T8UQwYm"
   },
   "outputs": [],
   "source": [
    "#Q7b (answer in words):\n",
    "# The p-value of the Shapiro-Wilk test is higher than 0.05 in the case of intellect and impression, 0.52 and 0.17, respectively. This means that in those cases the data are normally distributed.\n",
    "# The p-value of the Shapiro-Wilk test is close to but lower than 0.05 in the case of hire (0.047). Therefore, in that case, the distribution is not normal.\n",
    "\n",
    "# As the results of Levene's tests show, the p-values are higher than 0.05, therefore we can conclude that the variances are not significantly different from each other (i.e. the homogeneity assumption of the variance is met).\n",
    "\n",
    "# According to the results of the t-test, the p-values are lower than 0.05, hence we can conclude that the difference is statistically significant. The difference between the ratings given after having listened vs. having read a pitch are statistically significant."
   ]
  }
 ],
 "metadata": {
  "colab": {
   "provenance": []
  },
  "kernelspec": {
   "display_name": "Python 3 (ipykernel)",
   "language": "python",
   "name": "python3"
  },
  "language_info": {
   "codemirror_mode": {
    "name": "ipython",
    "version": 3
   },
   "file_extension": ".py",
   "mimetype": "text/x-python",
   "name": "python",
   "nbconvert_exporter": "python",
   "pygments_lexer": "ipython3",
   "version": "3.11.4"
  }
 },
 "nbformat": 4,
 "nbformat_minor": 1
}
